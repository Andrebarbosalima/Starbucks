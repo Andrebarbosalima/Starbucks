{
  "nbformat": 4,
  "nbformat_minor": 0,
  "metadata": {
    "colab": {
      "name": "Untitled16.ipynb",
      "provenance": [],
      "authorship_tag": "ABX9TyNhVzzUaBY5TiJDx2nTduAq",
      "include_colab_link": true
    },
    "kernelspec": {
      "name": "python3",
      "display_name": "Python 3"
    },
    "language_info": {
      "name": "python"
    }
  },
  "cells": [
    {
      "cell_type": "markdown",
      "metadata": {
        "id": "view-in-github",
        "colab_type": "text"
      },
      "source": [
        "<a href=\"https://colab.research.google.com/github/Andrebarbosalima/Starbucks/blob/main/Untitled16.ipynb\" target=\"_parent\"><img src=\"https://colab.research.google.com/assets/colab-badge.svg\" alt=\"Open In Colab\"/></a>"
      ]
    },
    {
      "cell_type": "code",
      "metadata": {
        "colab": {
          "base_uri": "https://localhost:8080/"
        },
        "id": "dzfA5bFwXqIk",
        "outputId": "bca74880-4faf-4044-82cf-2d3c5f60b035"
      },
      "source": [
        "class Calculadora:\n",
        "  def __init__ (self , num1 , num2):\n",
        "    self.valor_a= num1\n",
        "    self.valor_b = num2\n",
        "  def soma(self)  :\n",
        "    return self.valor_a + self.valor_b\n",
        "  def subtracao(self)  :\n",
        "    return self.valor_a - self.valor_b  \n",
        "  def divisao(self)  :\n",
        "    return self.valor_a / self.valor_b\n",
        "  def multiplicar(self)  :\n",
        "    return self.valor_a * self.valor_b\n",
        "\n",
        "calculadora = Calculadora(10 , 2)    \n",
        "print(calculadora .soma())\n",
        "print(calculadora .subtracao())\n",
        "print(calculadora .divisao())\n",
        "print(calculadora .multiplicar())\n",
        "  \n",
        "  \n"
      ],
      "execution_count": 10,
      "outputs": [
        {
          "output_type": "stream",
          "text": [
            "12\n",
            "8\n",
            "5.0\n",
            "20\n"
          ],
          "name": "stdout"
        }
      ]
    },
    {
      "cell_type": "markdown",
      "metadata": {
        "id": "VqEdYA48Xsz2"
      },
      "source": [
        "class Python"
      ]
    }
  ]
}